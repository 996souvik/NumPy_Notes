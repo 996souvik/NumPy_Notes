{
 "cells": [
  {
   "cell_type": "markdown",
   "id": "32712c3b",
   "metadata": {},
   "source": [
    "### Numpy stands for \"Numerical Python\" for use data analysis/Science,and cloud computing,ML.\n",
    "### !pip install numPy.(Installtion process)\n",
    "### Array make with 1D, 2D, 3D....ndarray.We store data in an Array. \n",
    "### Suppose i make a list [1,2,3,4,5] = 1=100, 101,102 Location. This is a series of data\n",
    "### we make strutured array. from an unstructed data.\n",
    "### All elements of an array are same data type. but if need diffrenet use List.\n",
    "### Array are static and can't be changed. but if you need dynamic use List.\n",
    "### NumPy array use less space. Vs of List."
   ]
  },
  {
   "cell_type": "markdown",
   "id": "bc331b70",
   "metadata": {},
   "source": [
    "<a id=\"1\"></a>\n",
    "<h2 style=\"color:#ff0000;font-size:30px;font-family:initial;text-align:center;\"><strong>1.<strong style=\"color:#005aac;font-size:30px;font-family:initial;\"><b>Create 1D Array</b><strong style=\"color:#ff0000;font-size:30px;font-family:initial;\">:-</strong></strong></strong></h2>"
   ]
  },
  {
   "cell_type": "code",
   "execution_count": 5,
   "id": "6fcc7a80",
   "metadata": {},
   "outputs": [
    {
     "name": "stdout",
     "output_type": "stream",
     "text": [
      "[10 20 30 40 50] <class 'numpy.ndarray'>\n",
      "[10 20 30 40 50]\n",
      "(5,)\n",
      "1\n"
     ]
    }
   ],
   "source": [
    "#how to create NumPy Arrays?\n",
    "\n",
    "import numpy as np #alias dummy name\n",
    "list1 = [10,20,30,40,50]\n",
    "array1 = np.array(list1) #np is same as use use dummy name #If we want to convert the datatype then we'll use dtype='float','U32'.\n",
    "print (array1, type(array1))#It is a 1D array. Type of array1 it shows \n",
    "print(array1.shape) #it is shwoing rows and columns\n",
    "print(array1.ndim) #It shwoing the dimension of array"
   ]
  },
  {
   "cell_type": "code",
   "execution_count": 6,
   "id": "7a96c3c7",
   "metadata": {},
   "outputs": [
    {
     "name": "stdout",
     "output_type": "stream",
     "text": [
      "[10. 20. 30. 40. 50.] <class 'numpy.ndarray'>\n",
      "(5,)\n",
      "1\n"
     ]
    }
   ],
   "source": [
    "#Now suppose we want to change the type of whole array.\n",
    "#how to create NumPy Arrays?\n",
    "\n",
    "import numpy as np #alias dummy name\n",
    "list1 = [10,20,30,40,50]\n",
    "array1 = np.array(list1,dtype=float) #np is same as use use dummy name #If we want to convert the datatype then we'll use dtype='float','U32'.\n",
    "print (array1, type(array1))#It is a 1D array. Type of array1 it shows \n",
    "print(array1.shape)\n",
    "print(array1.ndim)"
   ]
  },
  {
   "cell_type": "code",
   "execution_count": 7,
   "id": "7d988737",
   "metadata": {},
   "outputs": [
    {
     "name": "stdout",
     "output_type": "stream",
     "text": [
      "['10' '20' '30' '40' '50']\n"
     ]
    }
   ],
   "source": [
    "#Now You want to change the type CHAR\n",
    "#we also can mention what we need #(How to change datatype as per your need)\n",
    "\n",
    "import numpy as np #alias dummy name\n",
    "list1 = [10,20,30,40,50]\n",
    "array1 = np.array(list1,dtype='U32') #np is same as use use dummy name #for charecter use U32\n",
    "print(array1)\n"
   ]
  },
  {
   "cell_type": "code",
   "execution_count": 55,
   "id": "69b52152",
   "metadata": {},
   "outputs": [
    {
     "data": {
      "text/plain": [
       "numpy.ndarray"
      ]
     },
     "execution_count": 55,
     "metadata": {},
     "output_type": "execute_result"
    }
   ],
   "source": [
    "type(array1) #N= infinity array"
   ]
  },
  {
   "cell_type": "code",
   "execution_count": 10,
   "id": "4c114763",
   "metadata": {},
   "outputs": [
    {
     "name": "stdout",
     "output_type": "stream",
     "text": [
      "[1, 2, 3, 4, 5] <class 'list'>\n",
      "[1 2 3 4 5] <class 'numpy.ndarray'>\n"
     ]
    }
   ],
   "source": [
    "data1 = [1, 2, 3, 4, 5] # list\n",
    "arr1 = np.array(data1)\n",
    "print (data1, type(data1))\n",
    "print (arr1, type(arr1))"
   ]
  },
  {
   "cell_type": "code",
   "execution_count": 3,
   "id": "0367d9dd",
   "metadata": {},
   "outputs": [
    {
     "name": "stdout",
     "output_type": "stream",
     "text": [
      "[10.   20.88 30.   40.   50.  ]\n"
     ]
    }
   ],
   "source": [
    "#how to create NumPy Arrays?\n",
    "\n",
    "import numpy as np #alias dummy name\n",
    "list1 = [10,20.88,30,40,50]\n",
    "array1 = np.array(list1) #np is same as use use dummy name\n",
    "print(array1)\n",
    "#all are in float value. so remember list is same but type must be different."
   ]
  },
  {
   "cell_type": "code",
   "execution_count": 4,
   "id": "c72a4288",
   "metadata": {},
   "outputs": [
    {
     "name": "stdout",
     "output_type": "stream",
     "text": [
      "['10' 'hello' '30' '40' '50']\n"
     ]
    }
   ],
   "source": [
    "#how to create NumPy Arrays?\n",
    "\n",
    "import numpy as np #alias dummy name\n",
    "list1 = [10,\"hello\",30,40,50]\n",
    "array1 = np.array(list1) #np is same as use use dummy name\n",
    "print(array1)\n"
   ]
  },
  {
   "cell_type": "code",
   "execution_count": 11,
   "id": "3c9b9937",
   "metadata": {},
   "outputs": [
    {
     "name": "stdout",
     "output_type": "stream",
     "text": [
      "[1 2 3 4 5 6 7]\n"
     ]
    }
   ],
   "source": [
    "#write array using range(This is a shortcart method)\n",
    "import numpy as np\n",
    "array1= np.arange(1,8) #1 is starting value and 7 is ending value \n",
    "print(array1)"
   ]
  },
  {
   "cell_type": "code",
   "execution_count": 10,
   "id": "12cd60a9",
   "metadata": {},
   "outputs": [
    {
     "name": "stdout",
     "output_type": "stream",
     "text": [
      "[[12 13 14]\n",
      " [15 16 17]]\n"
     ]
    }
   ],
   "source": [
    "#write array using range(This is a shortcart method)\n",
    "import numpy as np #Now make 2d array\n",
    "array1= np.arange(12,18).reshape((2,3)) #1 is starting value and 7 is ending value \n",
    "print(array1) #No of rows: 2 no of columns: 3 total elements: 6... 2x3 matrix"
   ]
  },
  {
   "cell_type": "code",
   "execution_count": 11,
   "id": "87adc2d9",
   "metadata": {},
   "outputs": [
    {
     "name": "stdout",
     "output_type": "stream",
     "text": [
      "[[12 13]\n",
      " [14 15]\n",
      " [16 17]]\n"
     ]
    }
   ],
   "source": [
    "#write array using range(This is a shortcart method)\n",
    "import numpy as np #Now make 2d array\n",
    "array1= np.arange(12,18).reshape((3,2)) #1 is starting value and 7 is ending value \n",
    "print(array1) #No of rows: 3 no of columns: 2 total elements: 6... 3x2 matrix"
   ]
  },
  {
   "cell_type": "code",
   "execution_count": 13,
   "id": "23d32a84",
   "metadata": {},
   "outputs": [
    {
     "name": "stdout",
     "output_type": "stream",
     "text": [
      "The array: [ 1  2  3 10 15  4]\n",
      "The maximum element: 15\n",
      "The minimum element: 1\n",
      "The sum of the elements: 35\n"
     ]
    }
   ],
   "source": [
    "# Finding the max, min, sum of the array\n",
    "array1 = np.array([1,2,3,10,15,4])\n",
    "print(\"The array:\",array1)\n",
    "print(\"The maximum element:\",array1.max())\n",
    "print(\"The minimum element:\",array1.min())\n",
    "print(\"The sum of the elements:\",array1.sum())"
   ]
  },
  {
   "cell_type": "code",
   "execution_count": 16,
   "id": "657e3b78",
   "metadata": {},
   "outputs": [
    {
     "name": "stdout",
     "output_type": "stream",
     "text": [
      "[[1.         1.41421356 5.47722558]\n",
      " [3.16227766 3.87298335 2.        ]]\n",
      "10.044346115546242\n"
     ]
    }
   ],
   "source": [
    "# Find the square-root and standard deviation of the array\n",
    "array1 = np.array([[1,2,30],[10,15,4]]) #Let's take a 2d array\n",
    "print(np.sqrt(array1))\n",
    "print(np.std(array1))\n",
    "\n"
   ]
  },
  {
   "cell_type": "code",
   "execution_count": 12,
   "id": "aae1fe2a",
   "metadata": {},
   "outputs": [
    {
     "name": "stdout",
     "output_type": "stream",
     "text": [
      "[0. 0. 0. 0.]\n"
     ]
    }
   ],
   "source": [
    "array1 = np.zeros(4)\n",
    "print(array1) #1d array"
   ]
  },
  {
   "cell_type": "code",
   "execution_count": 13,
   "id": "e6302a13",
   "metadata": {},
   "outputs": [
    {
     "name": "stdout",
     "output_type": "stream",
     "text": [
      "[[0. 0.]\n",
      " [0. 0.]\n",
      " [0. 0.]\n",
      " [0. 0.]]\n"
     ]
    }
   ],
   "source": [
    "array1 = np.zeros((4,2))\n",
    "print(array1) #2d array #2 Brackets"
   ]
  },
  {
   "cell_type": "markdown",
   "id": "bff579fa",
   "metadata": {},
   "source": [
    "<a id=\"1\"></a>\n",
    "<h2 style=\"color:#ff0000;font-size:30px;font-family:initial;text-align:center;\"><strong>2.<strong style=\"color:#005aac;font-size:30px;font-family:initial;\"><b>Create 2D Array</b><strong style=\"color:#ff0000;font-size:30px;font-family:initial;\">:-</strong></strong></strong></h2>"
   ]
  },
  {
   "cell_type": "code",
   "execution_count": 12,
   "id": "6dc1951a",
   "metadata": {},
   "outputs": [
    {
     "name": "stdout",
     "output_type": "stream",
     "text": [
      "[[10 20 30]\n",
      " [40 50 60]]\n"
     ]
    }
   ],
   "source": [
    "# Now we create 2d array\n",
    "import numpy as np\n",
    "list1 = [[10,20,30], [40,50,60]] #2 brackets here so we consider it is 2D ARRAY\n",
    "array1 = np.array(list1)\n",
    "print(array1)"
   ]
  },
  {
   "cell_type": "code",
   "execution_count": 21,
   "id": "4ae1ceda",
   "metadata": {},
   "outputs": [
    {
     "name": "stdout",
     "output_type": "stream",
     "text": [
      "[ 400 1000 1800]\n"
     ]
    }
   ],
   "source": [
    "# Multiply 2 array each element with specific index\n",
    "a = np.array([10,20,30])\n",
    "b = np.array([40,50,60]) # It should be same order\n",
    "c= a*b\n",
    "print(c)\n"
   ]
  },
  {
   "cell_type": "code",
   "execution_count": 23,
   "id": "1c64eedc",
   "metadata": {},
   "outputs": [
    {
     "name": "stdout",
     "output_type": "stream",
     "text": [
      "\n",
      "Adding arrays a and b ..\n",
      "[50 70 90]\n"
     ]
    }
   ],
   "source": [
    "a = np.array([10,20,30])\n",
    "b = np.array([40,50,60])\n",
    "print(\"\\nAdding arrays a and b ..\")\n",
    "c = a + b;\n",
    "print(c)"
   ]
  },
  {
   "cell_type": "code",
   "execution_count": 9,
   "id": "e129d108",
   "metadata": {},
   "outputs": [
    {
     "name": "stdout",
     "output_type": "stream",
     "text": [
      "[[0. 0.]\n",
      " [0. 0.]\n",
      " [0. 0.]\n",
      " [0. 0.]]\n"
     ]
    }
   ],
   "source": [
    "#How to create zeros\n",
    "import numpy as np\n",
    "array1 = np.zeros((4,2)) #No of rows 4 and no of colmuns 2\n",
    "print(array1)"
   ]
  },
  {
   "cell_type": "code",
   "execution_count": 8,
   "id": "28409a6c",
   "metadata": {},
   "outputs": [
    {
     "name": "stdout",
     "output_type": "stream",
     "text": [
      "[[11 12 13]\n",
      " [14 15 16]]\n"
     ]
    }
   ],
   "source": [
    "#write 2d.3d array by using arange\n",
    "import numpy as np\n",
    "array1 = np.arange(11,17).reshape((2,3))\n",
    "print(array1)"
   ]
  },
  {
   "cell_type": "code",
   "execution_count": 10,
   "id": "94f36cc3",
   "metadata": {
    "scrolled": true
   },
   "outputs": [
    {
     "name": "stdout",
     "output_type": "stream",
     "text": [
      "[[1. 1.]\n",
      " [1. 1.]\n",
      " [1. 1.]\n",
      " [1. 1.]]\n"
     ]
    }
   ],
   "source": [
    "#How to create once\n",
    "import numpy as np\n",
    "array1 = np.ones((4,2)) #No of rows 4 and no of colmuns 2\n",
    "print(array1)"
   ]
  },
  {
   "cell_type": "markdown",
   "id": "37b707ec",
   "metadata": {},
   "source": [
    "Varies Attributes of NumPy array:\n",
    "1.) ndim #dimention of array\n",
    "2.) shape #no of rows and columns\n",
    "3.) size\n",
    "4.) dtype #data type\n",
    "5.) itemsize #no of bytes used in memory\n"
   ]
  },
  {
   "cell_type": "code",
   "execution_count": 24,
   "id": "7765a053",
   "metadata": {},
   "outputs": [
    {
     "data": {
      "text/plain": [
       "1"
      ]
     },
     "execution_count": 24,
     "metadata": {},
     "output_type": "execute_result"
    }
   ],
   "source": [
    "import numpy as np\n",
    "array1 = [10,20,30,40,50]\n",
    "array1 = np.array(array1)\n",
    "array1.ndim     #1D ARRAY"
   ]
  },
  {
   "cell_type": "code",
   "execution_count": 26,
   "id": "f7b11e16",
   "metadata": {},
   "outputs": [
    {
     "data": {
      "text/plain": [
       "2"
      ]
     },
     "execution_count": 26,
     "metadata": {},
     "output_type": "execute_result"
    }
   ],
   "source": [
    "array1 = [[10,20,30], [40,50,60], [70,80,90]]\n",
    "array1 = np.array(array1)\n",
    "array1.ndim #2D ARRAY"
   ]
  },
  {
   "cell_type": "code",
   "execution_count": 15,
   "id": "20e48a48",
   "metadata": {},
   "outputs": [
    {
     "data": {
      "text/plain": [
       "3"
      ]
     },
     "execution_count": 15,
     "metadata": {},
     "output_type": "execute_result"
    }
   ],
   "source": [
    "array1 = [[[10,20,30], [40,50,60], [70,80,90], [90,100,110]]]\n",
    "array1 = np.array(array1)\n",
    "array1.ndim #3D ARRAY"
   ]
  },
  {
   "cell_type": "code",
   "execution_count": 25,
   "id": "4cd882b6",
   "metadata": {},
   "outputs": [
    {
     "data": {
      "text/plain": [
       "(5,)"
      ]
     },
     "execution_count": 25,
     "metadata": {},
     "output_type": "execute_result"
    }
   ],
   "source": [
    "import numpy as np\n",
    "array1 = [10,20,30,40,50]\n",
    "array1 = np.array(array1)\n",
    "array1.shape    #No of elements for 1d that why 5,"
   ]
  },
  {
   "cell_type": "code",
   "execution_count": 21,
   "id": "3d1e7c98",
   "metadata": {},
   "outputs": [
    {
     "data": {
      "text/plain": [
       "(3, 3)"
      ]
     },
     "execution_count": 21,
     "metadata": {},
     "output_type": "execute_result"
    }
   ],
   "source": [
    "array1 = [[10,20,30], [40,50,60], [70,80,90]]\n",
    "array1 = np.array(array1)\n",
    "array1.shape #for 2d array"
   ]
  },
  {
   "cell_type": "code",
   "execution_count": 22,
   "id": "404be645",
   "metadata": {},
   "outputs": [
    {
     "data": {
      "text/plain": [
       "(1, 4, 3)"
      ]
     },
     "execution_count": 22,
     "metadata": {},
     "output_type": "execute_result"
    }
   ],
   "source": [
    "array1 = [[[10,20,30], [40,50,60], [70,80,90], [90,100,110]]]\n",
    "array1 = np.array(array1)\n",
    "array1.shape #3D ARRAY"
   ]
  },
  {
   "cell_type": "code",
   "execution_count": 14,
   "id": "045c23c5",
   "metadata": {},
   "outputs": [
    {
     "data": {
      "text/plain": [
       "5"
      ]
     },
     "execution_count": 14,
     "metadata": {},
     "output_type": "execute_result"
    }
   ],
   "source": [
    "import numpy as np\n",
    "array1 = [10,20,30,40,50]\n",
    "array1 = np.array(array1)\n",
    "array1.size"
   ]
  },
  {
   "cell_type": "code",
   "execution_count": 33,
   "id": "dc0d2a70",
   "metadata": {},
   "outputs": [
    {
     "data": {
      "text/plain": [
       "9"
      ]
     },
     "execution_count": 33,
     "metadata": {},
     "output_type": "execute_result"
    }
   ],
   "source": [
    "array1 = [[10,20,30], [40,50,60], [70,80,90]]\n",
    "array1 = np.array(array1)\n",
    "array1.size #2D ARRAY"
   ]
  },
  {
   "cell_type": "code",
   "execution_count": 35,
   "id": "ba755722",
   "metadata": {},
   "outputs": [
    {
     "data": {
      "text/plain": [
       "12"
      ]
     },
     "execution_count": 35,
     "metadata": {},
     "output_type": "execute_result"
    }
   ],
   "source": [
    "array1 = [[[10,20,30], [40,50,60], [70,80,90], [90,100,110]]]\n",
    "array1 = np.array(array1)\n",
    "array1.size #3D ARRAY"
   ]
  },
  {
   "cell_type": "code",
   "execution_count": 26,
   "id": "c761ab1c",
   "metadata": {},
   "outputs": [
    {
     "data": {
      "text/plain": [
       "dtype('int32')"
      ]
     },
     "execution_count": 26,
     "metadata": {},
     "output_type": "execute_result"
    }
   ],
   "source": [
    "import numpy as np\n",
    "array1 = [10,20,30,40,50]\n",
    "array1 = np.array(list1)\n",
    "array1.dtype"
   ]
  },
  {
   "cell_type": "code",
   "execution_count": 28,
   "id": "94c0bc85",
   "metadata": {},
   "outputs": [
    {
     "data": {
      "text/plain": [
       "dtype('float64')"
      ]
     },
     "execution_count": 28,
     "metadata": {},
     "output_type": "execute_result"
    }
   ],
   "source": [
    "import numpy as np\n",
    "array1 = [10,20,30.67,40,50]\n",
    "array1 = np.array(array1)\n",
    "array1.dtype"
   ]
  },
  {
   "cell_type": "markdown",
   "id": "d3fa7749",
   "metadata": {},
   "source": [
    "<a id=\"1\"></a>\n",
    "<h2 style=\"color:#ff0000;font-size:30px;font-family:initial;text-align:center;\"><strong>3.<strong style=\"color:#005aac;font-size:30px;font-family:initial;\"><b>Create 3D array</b><strong style=\"color:#ff0000;font-size:30px;font-family:initial;\">:-</strong></strong></strong></h2>"
   ]
  },
  {
   "cell_type": "code",
   "execution_count": 36,
   "id": "ca210dc6",
   "metadata": {},
   "outputs": [
    {
     "name": "stdout",
     "output_type": "stream",
     "text": [
      "[[[10 20]\n",
      "  [30 40]]\n",
      "\n",
      " [[50 60]\n",
      "  [70 80]]]\n",
      "3\n"
     ]
    }
   ],
   "source": [
    "arr = np.array([[[10,20],[30,40]],\n",
    " [[50,60],[70,80]] ])\n",
    "print(arr)\n",
    "print(arr.ndim)"
   ]
  },
  {
   "cell_type": "code",
   "execution_count": 38,
   "id": "8cc4c2aa",
   "metadata": {},
   "outputs": [
    {
     "name": "stdout",
     "output_type": "stream",
     "text": [
      "[[[[[[[10 20]\n",
      "      [30 40]]\n",
      "\n",
      "     [[50 60]\n",
      "      [70 80]]]]]]]\n",
      "7\n"
     ]
    }
   ],
   "source": [
    "arr = np.array([[[[[[[10,20],[30,40]],\n",
    " [[50,60],[70,80]]]]]]])\n",
    "print(arr)\n",
    "print(arr.ndim) #7D ARRAY"
   ]
  },
  {
   "cell_type": "code",
   "execution_count": 39,
   "id": "b7bde351",
   "metadata": {},
   "outputs": [
    {
     "name": "stdout",
     "output_type": "stream",
     "text": [
      "binary representation of a: 0b1010\n",
      "binary representation of b: 0b1100\n",
      "Bitwise-and of a and b:  8\n",
      "Bitwise-or of a and b:  14\n"
     ]
    }
   ],
   "source": [
    "# Bitwise And and OR Operation\n",
    "a = 10\n",
    "b = 12\n",
    "print(\"binary representation of a:\",bin(a))\n",
    "print(\"binary representation of b:\",bin(b))\n",
    "print(\"Bitwise-and of a and b: \",np.bitwise_and(a,b))\n",
    "print(\"Bitwise-or of a and b: \",np.bitwise_or(a,b))"
   ]
  },
  {
   "cell_type": "markdown",
   "id": "c339187e",
   "metadata": {},
   "source": [
    "# Indexing in numpy Array"
   ]
  },
  {
   "cell_type": "markdown",
   "id": "00772d41",
   "metadata": {},
   "source": [
    "10,20,30,40,50,60\n",
    " 0  1  2  3  4  5(Index No)"
   ]
  },
  {
   "cell_type": "code",
   "execution_count": 23,
   "id": "21663916",
   "metadata": {},
   "outputs": [
    {
     "name": "stdout",
     "output_type": "stream",
     "text": [
      "10\n"
     ]
    }
   ],
   "source": [
    "#We are use indexing for fetch a particular output(accaess array element)\n",
    "import numpy as np\n",
    "array1 = np.array([10,20,30,40,50,60])\n",
    "print(array1[0])"
   ]
  },
  {
   "cell_type": "code",
   "execution_count": 30,
   "id": "e039be69",
   "metadata": {},
   "outputs": [
    {
     "name": "stdout",
     "output_type": "stream",
     "text": [
      "60\n"
     ]
    }
   ],
   "source": [
    "print(array1[-1])"
   ]
  },
  {
   "cell_type": "markdown",
   "id": "975d4bfc",
   "metadata": {},
   "source": [
    "   0   1   2\n",
    "0- 10   20  30\n",
    "\n",
    "1- 40  50   60\n",
    "\n",
    "2- 70 80 90\n",
    "Row:column"
   ]
  },
  {
   "cell_type": "code",
   "execution_count": 31,
   "id": "ddebce90",
   "metadata": {},
   "outputs": [
    {
     "name": "stdout",
     "output_type": "stream",
     "text": [
      "60\n"
     ]
    }
   ],
   "source": [
    "import numpy as np\n",
    "array1 = np.array([[10,20,30], [40,50,60], [70,80,90]])\n",
    "print(array1[1,2])"
   ]
  },
  {
   "cell_type": "code",
   "execution_count": 32,
   "id": "913cdb3d",
   "metadata": {},
   "outputs": [
    {
     "name": "stdout",
     "output_type": "stream",
     "text": [
      "[10 20 30]\n"
     ]
    }
   ],
   "source": [
    "print(array1[0,:])"
   ]
  },
  {
   "cell_type": "code",
   "execution_count": 33,
   "id": "4b2092ac",
   "metadata": {},
   "outputs": [
    {
     "name": "stdout",
     "output_type": "stream",
     "text": [
      "[20 50 80]\n"
     ]
    }
   ],
   "source": [
    "print(array1[:,1])"
   ]
  },
  {
   "cell_type": "markdown",
   "id": "a7c54415",
   "metadata": {},
   "source": [
    "# Slicing in numpy arrays."
   ]
  },
  {
   "cell_type": "markdown",
   "id": "6ed592fb",
   "metadata": {},
   "source": [
    "# slicing is the way to extract a subset of data from a numpy array.\n",
    "# ([10,20,30,40,50,60,70])\n",
    "#    0   1   2   3    4   5   6\n",
    "#   -7   -6  -5  -4  -3  -2  -1"
   ]
  },
  {
   "cell_type": "code",
   "execution_count": 44,
   "id": "9b3d9490",
   "metadata": {},
   "outputs": [
    {
     "name": "stdout",
     "output_type": "stream",
     "text": [
      "[20 30]\n"
     ]
    }
   ],
   "source": [
    "#1D Array\n",
    "#[start:end],[start:end:step]\n",
    "import numpy as np\n",
    "array1 = np.array([10,20,30,40,50,60,70])\n",
    "print(array1[1:3]) #Start bit and stop bit"
   ]
  },
  {
   "cell_type": "code",
   "execution_count": 45,
   "id": "4516128e",
   "metadata": {},
   "outputs": [
    {
     "name": "stdout",
     "output_type": "stream",
     "text": [
      "[20 40 60]\n"
     ]
    }
   ],
   "source": [
    "print(array1[1:6:2]) #Start bit #step bit #and stop bit"
   ]
  },
  {
   "cell_type": "code",
   "execution_count": 46,
   "id": "aa0dee40",
   "metadata": {},
   "outputs": [
    {
     "name": "stdout",
     "output_type": "stream",
     "text": [
      "[70]\n"
     ]
    }
   ],
   "source": [
    "print(array1[-1:])"
   ]
  },
  {
   "cell_type": "code",
   "execution_count": 53,
   "id": "76fef548",
   "metadata": {},
   "outputs": [
    {
     "name": "stdout",
     "output_type": "stream",
     "text": [
      "[70 60]\n"
     ]
    }
   ],
   "source": [
    "print(array1[-1:-3:-1]) #-1 is direction"
   ]
  },
  {
   "cell_type": "code",
   "execution_count": 39,
   "id": "c7cc077d",
   "metadata": {},
   "outputs": [
    {
     "name": "stdout",
     "output_type": "stream",
     "text": [
      "[10 30 50 70]\n"
     ]
    }
   ],
   "source": [
    "print(array1[::2])"
   ]
  },
  {
   "cell_type": "code",
   "execution_count": 41,
   "id": "23530f98",
   "metadata": {},
   "outputs": [
    {
     "name": "stdout",
     "output_type": "stream",
     "text": [
      "[70 60 50 40 30 20 10]\n"
     ]
    },
    {
     "data": {
      "text/plain": [
       "[None]"
      ]
     },
     "execution_count": 41,
     "metadata": {},
     "output_type": "execute_result"
    }
   ],
   "source": [
    "[print(array1[::-1])]"
   ]
  },
  {
   "cell_type": "code",
   "execution_count": 55,
   "id": "46cadd61",
   "metadata": {},
   "outputs": [
    {
     "name": "stdout",
     "output_type": "stream",
     "text": [
      "[25 26 27]\n"
     ]
    }
   ],
   "source": [
    "#2D Array\n",
    "import numpy as np\n",
    "array1 = np.array([[15,16,17], [25,26,27], [35,36,37], [45,46,47]])\n",
    "print(array1[1, ])"
   ]
  },
  {
   "cell_type": "markdown",
   "id": "4d69504a",
   "metadata": {},
   "source": [
    "   0  1  2\n",
    "0  15 16 17\n",
    "1  25 26 27\n",
    "2  35 36 37\n",
    "3  45 46 47\n",
    "\n",
    "= 4*3\n",
    "Row = 4 and colmun = 3"
   ]
  },
  {
   "cell_type": "code",
   "execution_count": 56,
   "id": "c42762dc",
   "metadata": {},
   "outputs": [
    {
     "name": "stdout",
     "output_type": "stream",
     "text": [
      "[16 26 36 46]\n"
     ]
    }
   ],
   "source": [
    "print(array1[:,1])"
   ]
  },
  {
   "cell_type": "code",
   "execution_count": 4,
   "id": "79308b82",
   "metadata": {},
   "outputs": [
    {
     "name": "stdout",
     "output_type": "stream",
     "text": [
      "[[26 27]\n",
      " [36 37]]\n"
     ]
    }
   ],
   "source": [
    "print(array1[1:3 , 1:3]) #Start with Row 1 & 2 #and for column 1&2"
   ]
  },
  {
   "cell_type": "code",
   "execution_count": 5,
   "id": "4fed5395",
   "metadata": {},
   "outputs": [
    {
     "name": "stdout",
     "output_type": "stream",
     "text": [
      "[26 36]\n"
     ]
    }
   ],
   "source": [
    "print(array1[1:3, 1])"
   ]
  },
  {
   "cell_type": "code",
   "execution_count": 6,
   "id": "c969ceba",
   "metadata": {},
   "outputs": [
    {
     "name": "stdout",
     "output_type": "stream",
     "text": [
      "[[25]\n",
      " [35]]\n"
     ]
    }
   ],
   "source": [
    "print(array1[1:3, :1])"
   ]
  },
  {
   "cell_type": "code",
   "execution_count": 7,
   "id": "59605b33",
   "metadata": {},
   "outputs": [
    {
     "name": "stdout",
     "output_type": "stream",
     "text": [
      "[[26 27]\n",
      " [36 37]]\n"
     ]
    }
   ],
   "source": [
    "print(array1[1:3 , 1:])"
   ]
  },
  {
   "cell_type": "code",
   "execution_count": 83,
   "id": "14d75485",
   "metadata": {},
   "outputs": [
    {
     "name": "stdout",
     "output_type": "stream",
     "text": [
      "The Diagonal elements of the matrix [ 10  70 130 190 250]\n",
      "Eigenvalues: [ 6.86420807e+02 -3.64208074e+01  4.42948146e-14 -3.61711347e-15\n",
      " -4.89293952e-15]\n",
      "Eigenvectors: [[-0.10797496  0.67495283  0.39507493 -0.21036038  0.19806751]\n",
      " [-0.25277499  0.3603897  -0.65303237  0.05245984 -0.07950282]\n",
      " [-0.39757502  0.04582657  0.40069653  0.68228909 -0.63462597]\n",
      " [-0.54237506 -0.26873656 -0.42259568 -0.68051616  0.71549038]\n",
      " [-0.68717509 -0.58329969  0.27985658  0.15612762 -0.19942909]]\n"
     ]
    }
   ],
   "source": [
    "a = np.array([[10, 20, 30, 40, 50],\n",
    " [60, 70, 80, 90, 100],\n",
    " [110, 120, 130, 140, 150],\n",
    " [160, 170, 180, 190, 200],\n",
    " [210, 220, 230, 240, 250]])\n",
    "print(\"The Diagonal elements of the matrix\",a.diagonal())\n",
    "# Eigen Values and Eigen Vectors\n",
    "vals, vecs = np.linalg.eig(a)\n",
    "print(\"Eigenvalues:\", vals)\n",
    "print(\"Eigenvectors:\", vecs)\n",
    "\n"
   ]
  },
  {
   "cell_type": "code",
   "execution_count": 58,
   "id": "bc4ddb42",
   "metadata": {},
   "outputs": [
    {
     "name": "stdout",
     "output_type": "stream",
     "text": [
      "[[ 10  20  30  40  50]\n",
      " [ 60  70  80  90 100]\n",
      " [110 120 130 140 150]\n",
      " [160 170 180 190 200]\n",
      " [210 220 230 240 250]]\n",
      "\n",
      "[[ 10  60 110 160 210]\n",
      " [ 20  70 120 170 220]\n",
      " [ 30  80 130 180 230]\n",
      " [ 40  90 140 190 240]\n",
      " [ 50 100 150 200 250]]\n"
     ]
    }
   ],
   "source": [
    "# Original Matrix\n",
    "print(a)\n",
    "print()\n",
    "# Transpose Matrix\n",
    "arr1 = a.T\n",
    "#arr1 = a.transpose()\n",
    "print(arr1)"
   ]
  },
  {
   "cell_type": "code",
   "execution_count": 59,
   "id": "0008b5d8",
   "metadata": {},
   "outputs": [
    {
     "name": "stdout",
     "output_type": "stream",
     "text": [
      "Original array:\n",
      "[1 2 3]\n",
      "\n",
      "Tiled array:\n",
      "[[1 2 3 1 2 3 1 2 3]\n",
      " [1 2 3 1 2 3 1 2 3]\n",
      " [1 2 3 1 2 3 1 2 3]\n",
      " [1 2 3 1 2 3 1 2 3]]\n"
     ]
    }
   ],
   "source": [
    "# Tile for repeating numbers\n",
    "original_array = np.array([1, 2, 3])\n",
    "print(\"Original array:\")\n",
    "print(original_array)\n",
    "tiled_array = np.tile(original_array,(4,3))\n",
    "print(\"\\nTiled array:\")\n",
    "print(tiled_array)\n"
   ]
  },
  {
   "cell_type": "code",
   "execution_count": 60,
   "id": "f051c612",
   "metadata": {},
   "outputs": [
    {
     "name": "stdout",
     "output_type": "stream",
     "text": [
      "[[26 26 26 26]\n",
      " [26 26 26 26]\n",
      " [26 26 26 26]\n",
      " [26 26 26 26]]\n"
     ]
    }
   ],
   "source": [
    "# Array for specified Numbers\n",
    "a = np.full([4,4],26)\n",
    "print(a)\n"
   ]
  },
  {
   "cell_type": "code",
   "execution_count": 62,
   "id": "7af86364",
   "metadata": {},
   "outputs": [
    {
     "name": "stdout",
     "output_type": "stream",
     "text": [
      "[10 20 30 40 50]\n",
      "Result of np.add.accumulate():\n",
      "[ 10  30  60 100 150]\n",
      "Result of np.cumsum():\n",
      "[ 10  30  60 100 150]\n"
     ]
    }
   ],
   "source": [
    "# np.add.accumulate() performs an element-wise addition and returns the accumulated sums.\n",
    "arr = np.array([10, 20, 30, 40, 50])\n",
    "print(arr)\n",
    "# Use np.add.accumulate() to compute the accumulated sums\n",
    "accumulate_result = np.add.accumulate(arr)\n",
    "print(\"Result of np.add.accumulate():\")\n",
    "print(accumulate_result)\n",
    "\n",
    "\n",
    "cumsum_result = np.cumsum(arr)\n",
    "print(\"Result of np.cumsum():\")\n",
    "print(cumsum_result)\n"
   ]
  },
  {
   "cell_type": "markdown",
   "id": "a828fa3f",
   "metadata": {},
   "source": [
    "# What is linalg?\n",
    "## Ans: np.linalg is used to compute the inverse of a matrix A. linalg stands for \"linear algebra\", and it's a module in NumPy that provides functions for linear algebra operations, such as matrix inversion, determinant calculation, eigenvalue decomposition, and more.\n",
    "### The linalg module is used for several reasons: 1. Matrix or any algebric oparation. 2.Determine Accuracy of a data."
   ]
  },
  {
   "cell_type": "code",
   "execution_count": 65,
   "id": "1ed15cb2",
   "metadata": {},
   "outputs": [
    {
     "name": "stdout",
     "output_type": "stream",
     "text": [
      "Original matrix A:\n",
      "[[1 2 3]\n",
      " [0 1 4]\n",
      " [5 6 0]]\n",
      "\n",
      "Inverse of matrix A:\n",
      "[[-24.  18.   5.]\n",
      " [ 20. -15.  -4.]\n",
      " [ -5.   4.   1.]]\n",
      "\n",
      "Identity matrix (A * A_inv):\n",
      "[[ 1.00000000e+00 -1.77635684e-15 -4.44089210e-16]\n",
      " [ 0.00000000e+00  1.00000000e+00  0.00000000e+00]\n",
      " [ 0.00000000e+00  0.00000000e+00  1.00000000e+00]]\n"
     ]
    }
   ],
   "source": [
    "# Create a 3x3 matrix\n",
    "A = np.array([[1, 2, 3],\n",
    " [0, 1, 4],\n",
    " [5, 6, 0]])\n",
    "print(\"Original matrix A:\")\n",
    "print(A)\n",
    "# Compute the inverse of the matrix\n",
    "A_inv = np.linalg.inv(A)   #In the code, np.linalg is used to compute the inverse of a matrix A. linalg stands for \"linear algebra\", and it's a module in NumPy that provides functions for linear algebra operations, such as matrix inversion, determinant calculation, eigenvalue decomposition, and more.\n",
    "print(\"\\nInverse of matrix A:\")\n",
    "print(A_inv)\n",
    "# Verify the result by multiplying A and its inverse\n",
    "identity_matrix = np.dot(A, A_inv)\n",
    "print(\"\\nIdentity matrix (A * A_inv):\")\n",
    "print(identity_matrix)"
   ]
  },
  {
   "cell_type": "code",
   "execution_count": 82,
   "id": "3e4f3b41",
   "metadata": {},
   "outputs": [
    {
     "name": "stdout",
     "output_type": "stream",
     "text": [
      "Eigenvalues: [ 0.00000000e+00  1.04000000e+02 -2.06415243e-31 -2.18952885e-47]\n",
      "Eigenvectors: [[-0.8660254  -0.5         0.73164306 -0.8660254 ]\n",
      " [ 0.28867513 -0.5        -0.68073689  0.28867513]\n",
      " [ 0.28867513 -0.5        -0.02545309  0.28867513]\n",
      " [ 0.28867513 -0.5        -0.02545309  0.28867513]]\n"
     ]
    }
   ],
   "source": []
  },
  {
   "cell_type": "markdown",
   "id": "73ba6a51",
   "metadata": {},
   "source": [
    "# Arithmetic oparations on numpy arrays "
   ]
  },
  {
   "cell_type": "code",
   "execution_count": 66,
   "id": "4433eca7",
   "metadata": {},
   "outputs": [
    {
     "name": "stdout",
     "output_type": "stream",
     "text": [
      "[[12 14]\n",
      " [16 18]]\n"
     ]
    }
   ],
   "source": [
    "#the best way to save numeric oparations\n",
    "#2d matrix\n",
    "import numpy as np\n",
    "x = np.array([[1,2],\n",
    "             [3,4]])\n",
    "\n",
    "y = np.array([[11,12],\n",
    "             [13,14]])\n",
    "z = x+y\n",
    "print(z)"
   ]
  },
  {
   "cell_type": "code",
   "execution_count": 10,
   "id": "2e98994c",
   "metadata": {},
   "outputs": [
    {
     "name": "stdout",
     "output_type": "stream",
     "text": [
      "[[-10 -10]\n",
      " [-10 -10]]\n"
     ]
    }
   ],
   "source": [
    "#the best way to save numeric oparations\n",
    "#2d matrix\n",
    "import numpy as np\n",
    "x = np.array([[1,2],\n",
    "             [3,4]])\n",
    "\n",
    "y = np.array([[11,12],\n",
    "             [13,14]])\n",
    "z = x-y\n",
    "print(z)"
   ]
  },
  {
   "cell_type": "code",
   "execution_count": 11,
   "id": "057a07d1",
   "metadata": {},
   "outputs": [
    {
     "name": "stdout",
     "output_type": "stream",
     "text": [
      "[[11 24]\n",
      " [39 56]]\n"
     ]
    }
   ],
   "source": [
    "#the best way to save numeric oparations\n",
    "#2d matrix\n",
    "import numpy as np\n",
    "x = np.array([[1,2],\n",
    "             [3,4]])\n",
    "\n",
    "y = np.array([[11,12],\n",
    "             [13,14]])\n",
    "z = x*y\n",
    "print(z)"
   ]
  },
  {
   "cell_type": "code",
   "execution_count": 12,
   "id": "06b1f0f2",
   "metadata": {},
   "outputs": [
    {
     "name": "stdout",
     "output_type": "stream",
     "text": [
      "[[37 40]\n",
      " [85 92]]\n"
     ]
    }
   ],
   "source": [
    "#the best way to save numeric oparations\n",
    "#2d matrix\n",
    "import numpy as np\n",
    "x = np.array([[1,2],\n",
    "             [3,4]])\n",
    "\n",
    "y = np.array([[11,12],\n",
    "             [13,14]])\n",
    "z = x@y                     #@Matrix maltiplication\n",
    "print(z)"
   ]
  },
  {
   "cell_type": "markdown",
   "id": "c00d2b85",
   "metadata": {},
   "source": [
    "What is Matrix Multiplication?\n",
    "--> [[1,2]]  [[11,12]]\n",
    "    [[3,4]]  [[13,14]]\n",
    "    \n",
    "    [[1x11 + 2x13 1x12 + 2x14]]\n",
    "    [[3x11 + 4x13 3x12 + 4x14]]\n",
    "    "
   ]
  },
  {
   "cell_type": "code",
   "execution_count": 67,
   "id": "3cb22818",
   "metadata": {},
   "outputs": [
    {
     "name": "stdout",
     "output_type": "stream",
     "text": [
      "[[11.          6.        ]\n",
      " [ 4.33333333  3.5       ]]\n"
     ]
    }
   ],
   "source": [
    "#the best way to save numeric oparations\n",
    "#2d matrix\n",
    "import numpy as np\n",
    "x = np.array([[1,2],\n",
    "             [3,4]])\n",
    "\n",
    "y = np.array([[11,12],\n",
    "             [13,14]])\n",
    "z = y / x\n",
    "print(z)"
   ]
  },
  {
   "cell_type": "code",
   "execution_count": 68,
   "id": "439ce68e",
   "metadata": {},
   "outputs": [
    {
     "name": "stdout",
     "output_type": "stream",
     "text": [
      "[[11  6]\n",
      " [ 4  3]]\n"
     ]
    }
   ],
   "source": [
    "#the best way to save numeric oparations\n",
    "#2d matrix(Floor division/Round figure)\n",
    "import numpy as np\n",
    "x = np.array([[1,2],\n",
    "             [3,4]])\n",
    "\n",
    "y = np.array([[11,12],\n",
    "             [13,14]])\n",
    "z = y//x\n",
    "print(z)"
   ]
  },
  {
   "cell_type": "code",
   "execution_count": 69,
   "id": "b6fb52b4",
   "metadata": {},
   "outputs": [
    {
     "name": "stdout",
     "output_type": "stream",
     "text": [
      "[[   11   144]\n",
      " [ 2197 38416]]\n"
     ]
    }
   ],
   "source": [
    "#the best way to save numeric oparations\n",
    "#2d matrix(PowerX2)\n",
    "import numpy as np\n",
    "x = np.array([[1,2],\n",
    "             [3,4]])\n",
    "\n",
    "y = np.array([[11,12],\n",
    "             [13,14]])\n",
    "z = y ** x \n",
    "print(z)"
   ]
  },
  {
   "cell_type": "code",
   "execution_count": 17,
   "id": "81c989f3",
   "metadata": {},
   "outputs": [
    {
     "name": "stdout",
     "output_type": "stream",
     "text": [
      "[[0 0]\n",
      " [1 2]]\n"
     ]
    }
   ],
   "source": [
    "#the best way to save numeric oparations\n",
    "#2d matrix(Reminder)\n",
    "import numpy as np\n",
    "x = np.array([[1,2],\n",
    "             [3,4]])\n",
    "\n",
    "y = np.array([[11,12],\n",
    "             [13,14]])\n",
    "z = y % x\n",
    "print(z)"
   ]
  },
  {
   "cell_type": "code",
   "execution_count": 72,
   "id": "b74ce7c6",
   "metadata": {},
   "outputs": [
    {
     "name": "stdout",
     "output_type": "stream",
     "text": [
      "[[1 3]\n",
      " [2 4]]\n",
      "[[11 13]\n",
      " [12 14]]\n"
     ]
    }
   ],
   "source": [
    "#the best way to save numeric oparations\n",
    "#2d matrix(Transpose)\n",
    "import numpy as np\n",
    "x = np.array([[1,2],\n",
    "             [3,4]])\n",
    "\n",
    "y = np.array([[11,12],\n",
    "             [13,14]])\n",
    "print(x.transpose())\n",
    "print(y.transpose())"
   ]
  },
  {
   "cell_type": "code",
   "execution_count": 84,
   "id": "aed25478",
   "metadata": {},
   "outputs": [
    {
     "name": "stdout",
     "output_type": "stream",
     "text": [
      "1\n"
     ]
    }
   ],
   "source": [
    "import math\n",
    "print(math.gcd(2,3))"
   ]
  },
  {
   "cell_type": "code",
   "execution_count": 88,
   "id": "ce512ed3",
   "metadata": {},
   "outputs": [
    {
     "name": "stdout",
     "output_type": "stream",
     "text": [
      "3\n",
      "18\n"
     ]
    }
   ],
   "source": [
    "# Finding the GCD using Numpy\n",
    "print(np.gcd(12,21))\n",
    "\n",
    "# Finding LCM\n",
    "arr = np.array([3, 6, 9])\n",
    "x = np.lcm.reduce(arr)\n",
    "print(x)\n"
   ]
  },
  {
   "cell_type": "code",
   "execution_count": 94,
   "id": "d9ad456f",
   "metadata": {},
   "outputs": [
    {
     "name": "stdout",
     "output_type": "stream",
     "text": [
      "['Ishika' 'Kuheli' 'Debosmita' 'Ranajit' 'Arkadeep' 'Harsh' 'Disha']\n",
      "['Ishika']\n",
      "['Kuheli' 'Debosmita' 'Ranajit' 'Arkadeep' 'Harsh' 'Disha']\n",
      "['Ishika' 'Kuheli']\n",
      "['Harsh' 'Harsh' 'Debosmita' 'Harsh' 'Harsh' 'Harsh' 'Harsh']\n",
      "['Debosmita' 'Harsh']\n"
     ]
    }
   ],
   "source": [
    "names = np.array(['Ishika','Kuheli','Debosmita','Ranajit','Arkadeep','Harsh','Disha'])\n",
    "print (names)\n",
    "print (names[names == 'Ishika'])\n",
    "print (names[names != 'Ishika'])\n",
    "print (names[(names == 'Ishika') | (names == 'Kuheli')])\n",
    "names[names != 'Debosmita'] = 'Harsh'\n",
    "print (names)\n",
    "print (np.unique(names))"
   ]
  },
  {
   "cell_type": "markdown",
   "id": "61cc4c3e",
   "metadata": {},
   "source": [
    "# Sorting 2D Arrays Numpy\n",
    "## "
   ]
  },
  {
   "cell_type": "code",
   "execution_count": 73,
   "id": "d460f77c",
   "metadata": {},
   "outputs": [
    {
     "name": "stdout",
     "output_type": "stream",
     "text": [
      "[[11 12 15]\n",
      " [20 21 25]\n",
      " [16 18 27]]\n"
     ]
    }
   ],
   "source": [
    "import numpy as np\n",
    "x = np.array([[12,11,15],\n",
    "             [21,25,20],\n",
    "             [18,27,16]])\n",
    "y = np.sort(x)\n",
    "print(y)"
   ]
  },
  {
   "cell_type": "code",
   "execution_count": 30,
   "id": "94acd916",
   "metadata": {},
   "outputs": [
    {
     "name": "stdout",
     "output_type": "stream",
     "text": [
      "[[1 0 2]\n",
      " [2 0 1]\n",
      " [2 0 1]]\n"
     ]
    }
   ],
   "source": [
    "import numpy as np\n",
    "x = np.array([[12,11,15],\n",
    "             [21,25,20],\n",
    "             [18,27,16]])\n",
    "y = np.argsort(x, axis=1) #Row wise(Print Index value)\n",
    "print(y)"
   ]
  },
  {
   "cell_type": "code",
   "execution_count": 75,
   "id": "277563d9",
   "metadata": {},
   "outputs": [
    {
     "name": "stdout",
     "output_type": "stream",
     "text": [
      "[[11 12 15]\n",
      " [20 21 25]\n",
      " [16 18 27]]\n"
     ]
    }
   ],
   "source": [
    "import numpy as np\n",
    "x = np.array([[12,11,15],\n",
    "             [21,25,20],\n",
    "             [18,27,16]])\n",
    "x.sort() #Column wise\n",
    "print(x)"
   ]
  },
  {
   "cell_type": "code",
   "execution_count": 76,
   "id": "3a6aa76c",
   "metadata": {},
   "outputs": [
    {
     "name": "stdout",
     "output_type": "stream",
     "text": [
      "[[0 0 0]\n",
      " [2 1 2]\n",
      " [1 2 1]]\n"
     ]
    }
   ],
   "source": [
    "import numpy as np\n",
    "x = np.array([[12,11,15],\n",
    "             [21,25,20],\n",
    "             [18,27,16]])\n",
    "y = np.argsort(x, axis=0) #Column wise\n",
    "print(y)"
   ]
  },
  {
   "cell_type": "markdown",
   "id": "82da3a4f",
   "metadata": {},
   "source": [
    "# sorting 1D numpy array."
   ]
  },
  {
   "cell_type": "code",
   "execution_count": 78,
   "id": "2ce4f0ff",
   "metadata": {},
   "outputs": [
    {
     "name": "stdout",
     "output_type": "stream",
     "text": [
      "[ 55  67 199 788]\n"
     ]
    }
   ],
   "source": [
    "import numpy as np\n",
    "x = np.array([199,788,55,67])\n",
    "y = np.sort(x)\n",
    "print(y)"
   ]
  },
  {
   "cell_type": "code",
   "execution_count": 79,
   "id": "837ef3cd",
   "metadata": {},
   "outputs": [
    {
     "name": "stdout",
     "output_type": "stream",
     "text": [
      "[788 199  67  55]\n"
     ]
    }
   ],
   "source": [
    "import numpy as np\n",
    "x = np.array([199,788,55,67])\n",
    "y = np.sort(x)[::-1] #For reverse\n",
    "print(y)"
   ]
  },
  {
   "cell_type": "code",
   "execution_count": 81,
   "id": "539320df",
   "metadata": {},
   "outputs": [
    {
     "name": "stdout",
     "output_type": "stream",
     "text": [
      "[199 788  55  67]\n",
      "[2 3 0 1]\n"
     ]
    }
   ],
   "source": [
    "import numpy as np\n",
    "x = np.array([199,788,55,67])\n",
    "y = np.argsort(x)\n",
    "print(x)#index no\n",
    "print(y)"
   ]
  },
  {
   "cell_type": "markdown",
   "id": "40a60997",
   "metadata": {},
   "source": [
    "# statistic oparation on NumPy array."
   ]
  },
  {
   "cell_type": "code",
   "execution_count": 2,
   "id": "478e47d5",
   "metadata": {},
   "outputs": [
    {
     "name": "stdout",
     "output_type": "stream",
     "text": [
      "9\n"
     ]
    }
   ],
   "source": [
    "import numpy as np\n",
    "x = np.array([4,2,3,9,7])\n",
    "y = np.max(x)\n",
    "print(y)"
   ]
  },
  {
   "cell_type": "code",
   "execution_count": 3,
   "id": "c4c31ead",
   "metadata": {},
   "outputs": [
    {
     "name": "stdout",
     "output_type": "stream",
     "text": [
      "5.0\n"
     ]
    }
   ],
   "source": [
    "import numpy as np\n",
    "x = np.array([4,2,3,9,7])\n",
    "y = np.mean(x)\n",
    "print(y)"
   ]
  },
  {
   "cell_type": "code",
   "execution_count": 4,
   "id": "b5f4a6fb",
   "metadata": {},
   "outputs": [
    {
     "name": "stdout",
     "output_type": "stream",
     "text": [
      "4.0\n"
     ]
    }
   ],
   "source": [
    "import numpy as np\n",
    "x = np.array([4,2,3,9,7])\n",
    "y = np.median(x)\n",
    "print(y)"
   ]
  },
  {
   "cell_type": "code",
   "execution_count": 5,
   "id": "9cd35419",
   "metadata": {},
   "outputs": [
    {
     "name": "stdout",
     "output_type": "stream",
     "text": [
      "1512\n"
     ]
    }
   ],
   "source": [
    "import numpy as np\n",
    "x = np.array([4,2,3,9,7])\n",
    "y = np.prod(x)\n",
    "print(y)"
   ]
  },
  {
   "cell_type": "code",
   "execution_count": 6,
   "id": "238d3fc6",
   "metadata": {},
   "outputs": [
    {
     "name": "stdout",
     "output_type": "stream",
     "text": [
      "6.8\n"
     ]
    }
   ],
   "source": [
    "#Varios and standerd deviation\n",
    "import numpy as np\n",
    "x = np.array([4,2,3,9,7])\n",
    "y = np.var(x)\n",
    "print(y)"
   ]
  },
  {
   "cell_type": "code",
   "execution_count": 7,
   "id": "43d24c6a",
   "metadata": {},
   "outputs": [
    {
     "name": "stdout",
     "output_type": "stream",
     "text": [
      "2.6076809620810595\n"
     ]
    }
   ],
   "source": [
    "import numpy as np\n",
    "x = np.array([4,2,3,9,7])\n",
    "y = np.std(x)\n",
    "print(y)"
   ]
  },
  {
   "cell_type": "markdown",
   "id": "18328461",
   "metadata": {},
   "source": [
    "# Broadcasting"
   ]
  },
  {
   "cell_type": "markdown",
   "id": "e7029612",
   "metadata": {},
   "source": [
    "## V = [1 2 3] (1x3)\n",
    "## V1 = [1\n",
    "           2\n",
    "           3] (3x1)\n",
    "           \n",
    "### Must have same dimenstion if not then we use Broadcasting method\n",
    "### Broadcasting হলো যখন NumPy অটোমেটিক্যালি ভিন্ন ডাইমেনশনের arrays নিয়ে অপারেশন (যেমন যোগ, বিয়োগ) করে।"
   ]
  },
  {
   "cell_type": "code",
   "execution_count": 24,
   "id": "ca9e28b9",
   "metadata": {},
   "outputs": [
    {
     "name": "stdout",
     "output_type": "stream",
     "text": [
      "(4,)\n"
     ]
    },
    {
     "ename": "ValueError",
     "evalue": "operands could not be broadcast together with shapes (4,) (3,) ",
     "output_type": "error",
     "traceback": [
      "\u001b[1;31m---------------------------------------------------------------------------\u001b[0m",
      "\u001b[1;31mValueError\u001b[0m                                Traceback (most recent call last)",
      "Cell \u001b[1;32mIn[24], line 7\u001b[0m\n\u001b[0;32m      3\u001b[0m \u001b[38;5;28mprint\u001b[39m(var1\u001b[38;5;241m.\u001b[39mshape)\n\u001b[0;32m      5\u001b[0m var2 \u001b[38;5;241m=\u001b[39m np\u001b[38;5;241m.\u001b[39marray([\u001b[38;5;241m4\u001b[39m,\u001b[38;5;241m5\u001b[39m,\u001b[38;5;241m6\u001b[39m])\n\u001b[1;32m----> 7\u001b[0m \u001b[38;5;28mprint\u001b[39m( var1 \u001b[38;5;241m+\u001b[39m var2)\n",
      "\u001b[1;31mValueError\u001b[0m: operands could not be broadcast together with shapes (4,) (3,) "
     ]
    }
   ],
   "source": []
  },
  {
   "cell_type": "code",
   "execution_count": 25,
   "id": "7217d49c",
   "metadata": {},
   "outputs": [
    {
     "name": "stdout",
     "output_type": "stream",
     "text": [
      "(4, 3)\n",
      "2\n",
      "(3,)\n",
      "1\n",
      "[[ 0  1  2]\n",
      " [10 11 12]\n",
      " [20 21 22]\n",
      " [30 31 32]]\n",
      "2\n",
      "(4, 1)\n",
      "\n",
      "[[ 0 -1 -2]\n",
      " [10  9  8]\n",
      " [20 19 18]\n",
      " [30 29 28]]\n"
     ]
    }
   ],
   "source": [
    "a = np.array([[ 0, 0, 0],  #This is 2d array\n",
    "         [10, 10, 10],\n",
    "         [20, 20, 20],\n",
    "         [30, 30, 30]])\n",
    "print (a.shape)#So this is a 4x3 matrix\n",
    "print(a.ndim)\n",
    "b = np.array([0, 1, 2]) #and this is 3x0 matrix\n",
    "print (b.shape)\n",
    "print(b.ndim)\n",
    "\n",
    "result = a + b #Use broadcast function\n",
    "print(result) #so now a and b matrix add each other but noticed they are not in same dimension\n",
    "\n",
    "a = np.array([[0], [10], [20], [30]]) #Now make a 2d array\n",
    "print (a.ndim)#Check dimension\n",
    "print(a.shape)\n",
    "print()\n",
    "\n",
    "result = a - b #Now we add 1d+2d array\n",
    "print (result)\n",
    "\n",
    "\n"
   ]
  },
  {
   "cell_type": "markdown",
   "id": "c5d46509",
   "metadata": {},
   "source": [
    "# Searching method(For bank note authetication)"
   ]
  },
  {
   "cell_type": "code",
   "execution_count": 50,
   "id": "270cb06e",
   "metadata": {
    "scrolled": true
   },
   "outputs": [
    {
     "name": "stdout",
     "output_type": "stream",
     "text": [
      "[100 200 500 500 500 500 500 500 500 500 500 500 500 500 500 500 500 500\n",
      " 500 300 300 400 610 670 410] <class 'numpy.ndarray'>\n",
      "i = (array([ 2,  3,  4,  5,  6,  7,  8,  9, 10, 11, 12, 13, 14, 15, 16, 17, 18],\n",
      "      dtype=int64),)\n"
     ]
    }
   ],
   "source": [
    "# creating the array\n",
    "arr = np.array([100, 200, 500, 500, 500, 500, 500, 500, 500, 500, 500, 500, 500, 500, 500, 500, 500, 500, 500, 300, 300, 400, 610, 670, 410])\n",
    "print(arr,type(arr))\n",
    "\n",
    "# Searching for 500 in the array\n",
    "i = np.where(arr == 500)\n",
    "print(\"i = {}\".format(i))\n"
   ]
  },
  {
   "cell_type": "markdown",
   "id": "89987df4",
   "metadata": {},
   "source": [
    "# Minor Project(Python password genartor by NumPy)"
   ]
  },
  {
   "cell_type": "code",
   "execution_count": 5,
   "id": "13194e83",
   "metadata": {},
   "outputs": [
    {
     "name": "stdout",
     "output_type": "stream",
     "text": [
      "<Yg+IK|)cK{b\n"
     ]
    }
   ],
   "source": [
    "import numpy as np\n",
    "import string\n",
    "\n",
    "def generate_password(length=12):\n",
    "    # Define the pool of characters\n",
    "    characters = list(string.ascii_letters + string.digits + string.punctuation)\n",
    "    \n",
    "    # Randomly select characters from the pool\n",
    "    password = ''.join(np.random.choice(characters, size=length))\n",
    "    \n",
    "    return password\n",
    "\n",
    "# Example usage\n",
    "print(generate_password())"
   ]
  },
  {
   "cell_type": "markdown",
   "id": "5a2b112e",
   "metadata": {},
   "source": [
    "# Minor Project(Python emoji genarator by NumPy)"
   ]
  },
  {
   "cell_type": "code",
   "execution_count": 63,
   "id": "fa9bf08d",
   "metadata": {},
   "outputs": [
    {
     "name": "stdout",
     "output_type": "stream",
     "text": [
      "🤢🤪☠️😉😦👻😘😒😒🤓🤕😖😙🤪☠️😻😈😕😄😇\n"
     ]
    }
   ],
   "source": [
    "import numpy as np\n",
    "\n",
    "def generate_emoji_sequence(length=20):\n",
    "    # Define the pool of emojis\n",
    "    emojis = [\n",
    "        '😀', '😃', '😄', '😁', '😆', '😅', '😂', '🤣', '😊', '😇', '🙂', '🙃', '😉', '😌', '😍', '🥰', '😘', '😗',\n",
    "        '😙', '😚', '😋', '😛', '😜', '🤪', '😝', '🤑', '🤗', '🤭', '🤫', '🤔', '🤐', '🤨', '😐', '😑', '😶', '😏',\n",
    "        '😒', '🙄', '😬', '🤥', '😌', '😔', '😪', '🤤', '😴', '😷', '🤒', '🤕', '🤢', '🤮', '🤧', '🥵', '🥶', '🥴',\n",
    "        '😵', '🤯', '🤠', '🥳', '😎', '🤓', '🧐', '😕', '😟', '🙁', '😮', '😯', '😲', '😳', '🥺', '😦', '😧', '😨',\n",
    "        '😰', '😥', '😢', '😭', '😱', '😖', '😣', '😞', '😓', '😩', '😫', '🥱', '😤', '😡', '😠', '🤬', '😈', '👿',\n",
    "        '💀', '☠️', '💩', '🤡', '👹', '👺', '👻', '👽', '👾', '🤖', '😺', '😸', '😹', '😻', '😼', '😽', '🙀', '😿',\n",
    "        '😾'\n",
    "    ]\n",
    "    \n",
    "    # Randomly select emojis from the pool\n",
    "    emoji_sequence = ''.join(np.random.choice(emojis, size=length))\n",
    "    \n",
    "    return emoji_sequence\n",
    "\n",
    "# Example usage\n",
    "print(generate_emoji_sequence())\n"
   ]
  },
  {
   "cell_type": "markdown",
   "id": "27863cc7",
   "metadata": {},
   "source": [
    "# Emoji selection by user\n"
   ]
  },
  {
   "cell_type": "code",
   "execution_count": 80,
   "id": "66faa8e0",
   "metadata": {},
   "outputs": [
    {
     "name": "stdout",
     "output_type": "stream",
     "text": [
      "Enter an emotion (e.g., happy, sad, angry): angry\n",
      "😒\n"
     ]
    }
   ],
   "source": [
    "import numpy as np\n",
    "\n",
    "def get_emoji(emotion):\n",
    "    # Define a dictionary mapping words to lists of emojis\n",
    "    emoji_dict = {\n",
    "        'happy': ['😀', '😃', '😄', '😁', '😊'],\n",
    "        'sad': ['😢', '😭', '😞', '😟', '😔'],\n",
    "        'angry': ['😠', '😡', '🤬', '😤', '😒'],\n",
    "        'love': ['😍', '😘', '🥰', '❤️', '💕'],\n",
    "        'surprised': ['😲', '😮', '😯', '😳', '🤯'],\n",
    "        'laughing': ['😂', '🤣', '😹', '😆', '😁'],\n",
    "        'crying': ['😭', '😢', '😿', '😥', '😓'],\n",
    "        'sleepy': ['😴', '😪', '😌', '😩', '🥱'],\n",
    "        'confused': ['😕', '😟', '🙁', '😖', '😞'],\n",
    "        'cool': ['😎', '😏', '🆒', '😎', '😜']\n",
    "    }\n",
    "    \n",
    "    # Return a randomly selected emoji from the corresponding list\n",
    "    return np.random.choice(emoji_dict.get(emotion.lower(), ['🤔']))\n",
    "\n",
    "# Get user input for the emotion\n",
    "emotion = input(\"Enter an emotion (e.g., happy, sad, angry): \")\n",
    "\n",
    "# Get and print the corresponding emoji\n",
    "print(get_emoji(emotion))\n"
   ]
  },
  {
   "cell_type": "markdown",
   "id": "42d1508a",
   "metadata": {},
   "source": [
    "# Minor Project (Txt to handwriting)"
   ]
  },
  {
   "cell_type": "code",
   "execution_count": 1,
   "id": "3ab25c13",
   "metadata": {},
   "outputs": [
    {
     "name": "stdout",
     "output_type": "stream",
     "text": [
      "Requirement already satisfied: pywhatkit in c:\\users\\souvik saha\\anaconda3\\lib\\site-packages (5.4)\n",
      "Requirement already satisfied: Pillow in c:\\users\\souvik saha\\anaconda3\\lib\\site-packages (from pywhatkit) (9.4.0)\n",
      "Requirement already satisfied: pyautogui in c:\\users\\souvik saha\\anaconda3\\lib\\site-packages (from pywhatkit) (0.9.54)\n",
      "Requirement already satisfied: requests in c:\\users\\souvik saha\\anaconda3\\lib\\site-packages (from pywhatkit) (2.31.0)\n",
      "Requirement already satisfied: wikipedia in c:\\users\\souvik saha\\anaconda3\\lib\\site-packages (from pywhatkit) (1.4.0)\n",
      "Requirement already satisfied: Flask in c:\\users\\souvik saha\\anaconda3\\lib\\site-packages (from pywhatkit) (2.2.2)\n",
      "Requirement already satisfied: Werkzeug>=2.2.2 in c:\\users\\souvik saha\\anaconda3\\lib\\site-packages (from Flask->pywhatkit) (2.2.3)\n",
      "Requirement already satisfied: Jinja2>=3.0 in c:\\users\\souvik saha\\anaconda3\\lib\\site-packages (from Flask->pywhatkit) (3.1.2)\n",
      "Requirement already satisfied: itsdangerous>=2.0 in c:\\users\\souvik saha\\anaconda3\\lib\\site-packages (from Flask->pywhatkit) (2.0.1)\n",
      "Requirement already satisfied: click>=8.0 in c:\\users\\souvik saha\\anaconda3\\lib\\site-packages (from Flask->pywhatkit) (8.0.4)\n",
      "Requirement already satisfied: pymsgbox in c:\\users\\souvik saha\\anaconda3\\lib\\site-packages (from pyautogui->pywhatkit) (1.0.9)\n",
      "Requirement already satisfied: pytweening>=1.0.4 in c:\\users\\souvik saha\\anaconda3\\lib\\site-packages (from pyautogui->pywhatkit) (1.2.0)\n",
      "Requirement already satisfied: pyscreeze>=0.1.21 in c:\\users\\souvik saha\\anaconda3\\lib\\site-packages (from pyautogui->pywhatkit) (0.1.30)\n",
      "Requirement already satisfied: pygetwindow>=0.0.5 in c:\\users\\souvik saha\\anaconda3\\lib\\site-packages (from pyautogui->pywhatkit) (0.0.9)\n",
      "Requirement already satisfied: mouseinfo in c:\\users\\souvik saha\\anaconda3\\lib\\site-packages (from pyautogui->pywhatkit) (0.1.3)\n",
      "Requirement already satisfied: charset-normalizer<4,>=2 in c:\\users\\souvik saha\\anaconda3\\lib\\site-packages (from requests->pywhatkit) (2.0.4)\n",
      "Requirement already satisfied: idna<4,>=2.5 in c:\\users\\souvik saha\\anaconda3\\lib\\site-packages (from requests->pywhatkit) (3.4)\n",
      "Requirement already satisfied: urllib3<3,>=1.21.1 in c:\\users\\souvik saha\\anaconda3\\lib\\site-packages (from requests->pywhatkit) (1.26.16)\n",
      "Requirement already satisfied: certifi>=2017.4.17 in c:\\users\\souvik saha\\anaconda3\\lib\\site-packages (from requests->pywhatkit) (2023.7.22)\n",
      "Requirement already satisfied: beautifulsoup4 in c:\\users\\souvik saha\\anaconda3\\lib\\site-packages (from wikipedia->pywhatkit) (4.12.2)\n",
      "Requirement already satisfied: colorama in c:\\users\\souvik saha\\anaconda3\\lib\\site-packages (from click>=8.0->Flask->pywhatkit) (0.4.6)\n",
      "Requirement already satisfied: MarkupSafe>=2.0 in c:\\users\\souvik saha\\anaconda3\\lib\\site-packages (from Jinja2>=3.0->Flask->pywhatkit) (2.1.1)\n",
      "Requirement already satisfied: pyrect in c:\\users\\souvik saha\\anaconda3\\lib\\site-packages (from pygetwindow>=0.0.5->pyautogui->pywhatkit) (0.2.0)\n",
      "Requirement already satisfied: soupsieve>1.2 in c:\\users\\souvik saha\\anaconda3\\lib\\site-packages (from beautifulsoup4->wikipedia->pywhatkit) (2.4)\n",
      "Requirement already satisfied: pyperclip in c:\\users\\souvik saha\\anaconda3\\lib\\site-packages (from mouseinfo->pyautogui->pywhatkit) (1.8.2)\n"
     ]
    }
   ],
   "source": [
    "!pip install pywhatkit\n"
   ]
  },
  {
   "cell_type": "code",
   "execution_count": 2,
   "id": "6d9f6ff9",
   "metadata": {},
   "outputs": [
    {
     "ename": "UnableToAccessApi",
     "evalue": "Unable to access Pywhatkit api right now",
     "output_type": "error",
     "traceback": [
      "\u001b[1;31m---------------------------------------------------------------------------\u001b[0m",
      "\u001b[1;31mUnableToAccessApi\u001b[0m                         Traceback (most recent call last)",
      "Cell \u001b[1;32mIn[2], line 3\u001b[0m\n\u001b[0;32m      1\u001b[0m \u001b[38;5;28;01mimport\u001b[39;00m \u001b[38;5;21;01mpywhatkit\u001b[39;00m \u001b[38;5;28;01mas\u001b[39;00m \u001b[38;5;21;01mpw\u001b[39;00m\n\u001b[0;32m      2\u001b[0m txt \u001b[38;5;241m=\u001b[39m \u001b[38;5;124m'''\u001b[39m\u001b[38;5;124mHi....My name is souvik saha.I live at Khardah. Pursuing B.TECH from TECHNO INDIA UNIVERSITY\u001b[39m\u001b[38;5;124m'''\u001b[39m\n\u001b[1;32m----> 3\u001b[0m pw\u001b[38;5;241m.\u001b[39mtext_to_handwriting(txt, \u001b[38;5;124m\"\u001b[39m\u001b[38;5;124mAI_Assignment.png\u001b[39m\u001b[38;5;124m\"\u001b[39m, [\u001b[38;5;241m0\u001b[39m,\u001b[38;5;241m0\u001b[39m,\u001b[38;5;241m138\u001b[39m])\n\u001b[0;32m      4\u001b[0m \u001b[38;5;28mprint\u001b[39m(\u001b[38;5;124m\"\u001b[39m\u001b[38;5;124mEnd\u001b[39m\u001b[38;5;124m\"\u001b[39m)\n",
      "File \u001b[1;32m~\\anaconda3\\Lib\\site-packages\\pywhatkit\\handwriting.py:22\u001b[0m, in \u001b[0;36mtext_to_handwriting\u001b[1;34m(string, save_to, rgb)\u001b[0m\n\u001b[0;32m     20\u001b[0m         file\u001b[38;5;241m.\u001b[39mclose()\n\u001b[0;32m     21\u001b[0m \u001b[38;5;28;01melif\u001b[39;00m \u001b[38;5;241m400\u001b[39m \u001b[38;5;241m<\u001b[39m\u001b[38;5;241m=\u001b[39m status_code \u001b[38;5;241m<\u001b[39m\u001b[38;5;241m=\u001b[39m \u001b[38;5;241m599\u001b[39m:\n\u001b[1;32m---> 22\u001b[0m     \u001b[38;5;28;01mraise\u001b[39;00m exceptions\u001b[38;5;241m.\u001b[39mUnableToAccessApi(\u001b[38;5;124m\"\u001b[39m\u001b[38;5;124mUnable to access Pywhatkit api right now\u001b[39m\u001b[38;5;124m\"\u001b[39m)\n",
      "\u001b[1;31mUnableToAccessApi\u001b[0m: Unable to access Pywhatkit api right now"
     ]
    }
   ],
   "source": [
    "import pywhatkit as pw\n",
    "txt = '''Hi....My name is souvik saha.I live at Khardah. Pursuing B.TECH from TECHNO INDIA UNIVERSITY'''\n",
    "pw.text_to_handwriting(txt, \"AI_Assignment.png\", [0,0,138])\n",
    "print(\"End\")\n",
    "\n"
   ]
  },
  {
   "cell_type": "code",
   "execution_count": 13,
   "id": "46b74e9c",
   "metadata": {},
   "outputs": [],
   "source": [
    "import phonenumbers"
   ]
  },
  {
   "cell_type": "code",
   "execution_count": 16,
   "id": "5e700188",
   "metadata": {},
   "outputs": [
    {
     "name": "stdout",
     "output_type": "stream",
     "text": [
      "Enter your no with +__:+919318473275\n",
      "Country Code: 91 National Number: 9318473275\n",
      "('Asia/Calcutta',)\n",
      "Reliance Jio\n",
      "India\n"
     ]
    }
   ],
   "source": [
    "from phonenumbers import timezone,geocoder,carrier\n",
    "number=input(\"Enter your no with +__:\")\n",
    "phone=phonenumbers.parse(number)\n",
    "time=timezone.time_zones_for_number(phone)\n",
    "car=carrier.name_for_number(phone, \"en\")\n",
    "reg=geocoder.description_for_number(phone, \"en\")\n",
    "print(phone)\n",
    "print(time)\n",
    "print(car)\n",
    "print(reg)"
   ]
  },
  {
   "cell_type": "code",
   "execution_count": 8,
   "id": "7b1f0b36",
   "metadata": {},
   "outputs": [
    {
     "name": "stdout",
     "output_type": "stream",
     "text": [
      "Requirement already satisfied: pywhatkit in c:\\users\\souvik saha\\anaconda3\\lib\\site-packages (5.4)\n",
      "Requirement already satisfied: Pillow in c:\\users\\souvik saha\\anaconda3\\lib\\site-packages (from pywhatkit) (9.4.0)\n",
      "Requirement already satisfied: pyautogui in c:\\users\\souvik saha\\anaconda3\\lib\\site-packages (from pywhatkit) (0.9.54)\n",
      "Requirement already satisfied: requests in c:\\users\\souvik saha\\anaconda3\\lib\\site-packages (from pywhatkit) (2.31.0)\n",
      "Requirement already satisfied: wikipedia in c:\\users\\souvik saha\\anaconda3\\lib\\site-packages (from pywhatkit) (1.4.0)\n",
      "Requirement already satisfied: Flask in c:\\users\\souvik saha\\anaconda3\\lib\\site-packages (from pywhatkit) (2.2.2)\n",
      "Requirement already satisfied: Werkzeug>=2.2.2 in c:\\users\\souvik saha\\anaconda3\\lib\\site-packages (from Flask->pywhatkit) (2.2.3)\n",
      "Requirement already satisfied: Jinja2>=3.0 in c:\\users\\souvik saha\\anaconda3\\lib\\site-packages (from Flask->pywhatkit) (3.1.2)\n",
      "Requirement already satisfied: itsdangerous>=2.0 in c:\\users\\souvik saha\\anaconda3\\lib\\site-packages (from Flask->pywhatkit) (2.0.1)\n",
      "Requirement already satisfied: click>=8.0 in c:\\users\\souvik saha\\anaconda3\\lib\\site-packages (from Flask->pywhatkit) (8.0.4)\n",
      "Requirement already satisfied: pymsgbox in c:\\users\\souvik saha\\anaconda3\\lib\\site-packages (from pyautogui->pywhatkit) (1.0.9)\n",
      "Requirement already satisfied: pytweening>=1.0.4 in c:\\users\\souvik saha\\anaconda3\\lib\\site-packages (from pyautogui->pywhatkit) (1.2.0)\n",
      "Requirement already satisfied: pyscreeze>=0.1.21 in c:\\users\\souvik saha\\anaconda3\\lib\\site-packages (from pyautogui->pywhatkit) (0.1.30)\n",
      "Requirement already satisfied: pygetwindow>=0.0.5 in c:\\users\\souvik saha\\anaconda3\\lib\\site-packages (from pyautogui->pywhatkit) (0.0.9)\n",
      "Requirement already satisfied: mouseinfo in c:\\users\\souvik saha\\anaconda3\\lib\\site-packages (from pyautogui->pywhatkit) (0.1.3)\n",
      "Requirement already satisfied: charset-normalizer<4,>=2 in c:\\users\\souvik saha\\anaconda3\\lib\\site-packages (from requests->pywhatkit) (2.0.4)\n",
      "Requirement already satisfied: idna<4,>=2.5 in c:\\users\\souvik saha\\anaconda3\\lib\\site-packages (from requests->pywhatkit) (3.4)\n",
      "Requirement already satisfied: urllib3<3,>=1.21.1 in c:\\users\\souvik saha\\anaconda3\\lib\\site-packages (from requests->pywhatkit) (1.26.16)\n",
      "Requirement already satisfied: certifi>=2017.4.17 in c:\\users\\souvik saha\\anaconda3\\lib\\site-packages (from requests->pywhatkit) (2023.7.22)\n",
      "Requirement already satisfied: beautifulsoup4 in c:\\users\\souvik saha\\anaconda3\\lib\\site-packages (from wikipedia->pywhatkit) (4.12.2)\n",
      "Requirement already satisfied: colorama in c:\\users\\souvik saha\\anaconda3\\lib\\site-packages (from click>=8.0->Flask->pywhatkit) (0.4.6)\n",
      "Requirement already satisfied: MarkupSafe>=2.0 in c:\\users\\souvik saha\\anaconda3\\lib\\site-packages (from Jinja2>=3.0->Flask->pywhatkit) (2.1.1)\n",
      "Requirement already satisfied: pyrect in c:\\users\\souvik saha\\anaconda3\\lib\\site-packages (from pygetwindow>=0.0.5->pyautogui->pywhatkit) (0.2.0)\n",
      "Requirement already satisfied: soupsieve>1.2 in c:\\users\\souvik saha\\anaconda3\\lib\\site-packages (from beautifulsoup4->wikipedia->pywhatkit) (2.4)\n",
      "Requirement already satisfied: pyperclip in c:\\users\\souvik saha\\anaconda3\\lib\\site-packages (from mouseinfo->pyautogui->pywhatkit) (1.8.2)\n"
     ]
    }
   ],
   "source": []
  },
  {
   "cell_type": "code",
   "execution_count": 9,
   "id": "33cb9ffb",
   "metadata": {},
   "outputs": [
    {
     "name": "stdout",
     "output_type": "stream",
     "text": [
      "Handwritten text saved to handwritten.png\n"
     ]
    }
   ],
   "source": []
  },
  {
   "cell_type": "code",
   "execution_count": 11,
   "id": "9d902321",
   "metadata": {},
   "outputs": [
    {
     "ename": "OSError",
     "evalue": "cannot open resource",
     "output_type": "error",
     "traceback": [
      "\u001b[1;31m---------------------------------------------------------------------------\u001b[0m",
      "\u001b[1;31mOSError\u001b[0m                                   Traceback (most recent call last)",
      "Cell \u001b[1;32mIn[11], line 6\u001b[0m\n\u001b[0;32m      4\u001b[0m font_path \u001b[38;5;241m=\u001b[39m \u001b[38;5;124m\"\u001b[39m\u001b[38;5;124mpath_to_handwriting_font.ttf\u001b[39m\u001b[38;5;124m\"\u001b[39m  \u001b[38;5;66;03m# Replace with your font file path\u001b[39;00m\n\u001b[0;32m      5\u001b[0m font_size \u001b[38;5;241m=\u001b[39m \u001b[38;5;241m36\u001b[39m\n\u001b[1;32m----> 6\u001b[0m font \u001b[38;5;241m=\u001b[39m ImageFont\u001b[38;5;241m.\u001b[39mtruetype(font_path, font_size)\n\u001b[0;32m      8\u001b[0m \u001b[38;5;66;03m# Define the text to be written\u001b[39;00m\n\u001b[0;32m      9\u001b[0m text \u001b[38;5;241m=\u001b[39m \u001b[38;5;124m\"\u001b[39m\u001b[38;5;124mxxxxxxxxxxxxxxxxxxxxxxxxxxxxxxxxxxxxx\u001b[39m\u001b[38;5;124m\"\u001b[39m\n",
      "File \u001b[1;32m~\\anaconda3\\Lib\\site-packages\\PIL\\ImageFont.py:1008\u001b[0m, in \u001b[0;36mtruetype\u001b[1;34m(font, size, index, encoding, layout_engine)\u001b[0m\n\u001b[0;32m   1005\u001b[0m     \u001b[38;5;28;01mreturn\u001b[39;00m FreeTypeFont(font, size, index, encoding, layout_engine)\n\u001b[0;32m   1007\u001b[0m \u001b[38;5;28;01mtry\u001b[39;00m:\n\u001b[1;32m-> 1008\u001b[0m     \u001b[38;5;28;01mreturn\u001b[39;00m freetype(font)\n\u001b[0;32m   1009\u001b[0m \u001b[38;5;28;01mexcept\u001b[39;00m \u001b[38;5;167;01mOSError\u001b[39;00m:\n\u001b[0;32m   1010\u001b[0m     \u001b[38;5;28;01mif\u001b[39;00m \u001b[38;5;129;01mnot\u001b[39;00m is_path(font):\n",
      "File \u001b[1;32m~\\anaconda3\\Lib\\site-packages\\PIL\\ImageFont.py:1005\u001b[0m, in \u001b[0;36mtruetype.<locals>.freetype\u001b[1;34m(font)\u001b[0m\n\u001b[0;32m   1004\u001b[0m \u001b[38;5;28;01mdef\u001b[39;00m \u001b[38;5;21mfreetype\u001b[39m(font):\n\u001b[1;32m-> 1005\u001b[0m     \u001b[38;5;28;01mreturn\u001b[39;00m FreeTypeFont(font, size, index, encoding, layout_engine)\n",
      "File \u001b[1;32m~\\anaconda3\\Lib\\site-packages\\PIL\\ImageFont.py:255\u001b[0m, in \u001b[0;36mFreeTypeFont.__init__\u001b[1;34m(self, font, size, index, encoding, layout_engine)\u001b[0m\n\u001b[0;32m    253\u001b[0m                 load_from_bytes(f)\n\u001b[0;32m    254\u001b[0m             \u001b[38;5;28;01mreturn\u001b[39;00m\n\u001b[1;32m--> 255\u001b[0m     \u001b[38;5;28mself\u001b[39m\u001b[38;5;241m.\u001b[39mfont \u001b[38;5;241m=\u001b[39m core\u001b[38;5;241m.\u001b[39mgetfont(\n\u001b[0;32m    256\u001b[0m         font, size, index, encoding, layout_engine\u001b[38;5;241m=\u001b[39mlayout_engine\n\u001b[0;32m    257\u001b[0m     )\n\u001b[0;32m    258\u001b[0m \u001b[38;5;28;01melse\u001b[39;00m:\n\u001b[0;32m    259\u001b[0m     load_from_bytes(font)\n",
      "\u001b[1;31mOSError\u001b[0m: cannot open resource"
     ]
    }
   ],
   "source": []
  },
  {
   "cell_type": "code",
   "execution_count": null,
   "id": "99a419ee",
   "metadata": {},
   "outputs": [],
   "source": []
  }
 ],
 "metadata": {
  "kernelspec": {
   "display_name": "Python 3 (ipykernel)",
   "language": "python",
   "name": "python3"
  },
  "language_info": {
   "codemirror_mode": {
    "name": "ipython",
    "version": 3
   },
   "file_extension": ".py",
   "mimetype": "text/x-python",
   "name": "python",
   "nbconvert_exporter": "python",
   "pygments_lexer": "ipython3",
   "version": "3.11.5"
  }
 },
 "nbformat": 4,
 "nbformat_minor": 5
}
